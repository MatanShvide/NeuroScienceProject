{
 "cells": [
  {
   "cell_type": "markdown",
   "id": "65dd2831",
   "metadata": {},
   "source": [
    "extracting matrix from mne object, creating a log and calling function to find the pulses"
   ]
  },
  {
   "cell_type": "code",
   "execution_count": null,
   "id": "68579084",
   "metadata": {},
   "outputs": [],
   "source": [
    "def main( ): #main arguments: raw, logs\n",
    "    raw = mne.io.read_raw_brainvision('sub100_rt_TEP.vhdr')\n",
    "    mat = raw.get_data()\n",
    "    output_log = {}\n",
    "    num_of_artifacts = {}\n",
    "    logs = get_interpolation(raw)\n"
   ]
  },
  {
   "cell_type": "code",
   "execution_count": null,
   "id": "d13803a4",
   "metadata": {},
   "outputs": [],
   "source": [
    "def get_interpolation(raw):\n",
    "    logs = {}\n",
    "    logs['Errors'] = []\n",
    "    logs['General Info'] = {}\n",
    "    mat = raw.get_data()  # create 65 row matrix with ~7200000. Row = brain area, Column = 0.1 ms\n",
    "    diffs = np.diff(mat)\n",
    "    peaks = get_peak(mat)"
   ]
  },
  {
   "cell_type": "markdown",
   "id": "f796bb61",
   "metadata": {},
   "source": [
    "determine abnormal values in differences matrix"
   ]
  },
  {
   "cell_type": "code",
   "execution_count": null,
   "id": "334f8cfb",
   "metadata": {},
   "outputs": [],
   "source": [
    "def get_peak(mat):\n",
    "    max_mat = np.amax(mat, axis=1)\n",
    "    min_mat = np.amin(mat, axis=1)\n",
    "    peaks = (max_mat + np.abs(min_mat)) / 7\n",
    "    return peaks\n"
   ]
  },
  {
   "cell_type": "markdown",
   "id": "4d1c53ea",
   "metadata": {},
   "source": [
    "iterating over matrix's rows, for each row, apply all of the followings: "
   ]
  },
  {
   "cell_type": "code",
   "execution_count": null,
   "id": "f47542b2",
   "metadata": {},
   "outputs": [],
   "source": [
    "for i in range(len(mat)):  # for each region\n",
    "        peak = peaks[i]  # get_peak(max_mat[i], min_mat[i])  #determine required amplitude\n",
    "        logs['Region ' + str(i + 1)] = {'Amplitude': peak}\n",
    "        indices = find_abnormalities(diffs[i], peak, i)  # find abnormal indices\n",
    "        pulses_lst = group_indices(indices, 6)  # group abnormal indices by adjacency\n",
    "        sort_pulses_for_region(pulses_lst)  # sort indices\n",
    "        final_array = check_shape(mat[i], pulses_lst, peak, i)  # check pattern of pulses contains min&max values\n",
    "        logs['Region ' + str(i + 1)]['Number of pulses'] = len(final_array)\n",
    "        logs['Region ' + str(i + 1)]['Indices'] = final_array\n",
    "    lst = find_range(logs, len(mat), logs['Region 1']['Number of pulses'])  # determine final locations of pulses\n",
    "    logs['General Info'][\"Indices to interpolate\"] = lst\n",
    "    return logs"
   ]
  },
  {
   "cell_type": "markdown",
   "id": "27c4ece6",
   "metadata": {},
   "source": [
    "Using the value from get_peaks, we find abnormal indices"
   ]
  },
  {
   "cell_type": "code",
   "execution_count": null,
   "id": "93f77ec1",
   "metadata": {},
   "outputs": [],
   "source": [
    "def find_abnormalities(diffs, peak, j):\n",
    "    low_inds = np.where(diffs > peak)\n",
    "    high_inds = np.where(diffs < (-peak))\n",
    "    return (high_inds, low_inds)\n"
   ]
  },
  {
   "cell_type": "markdown",
   "id": "49601f1c",
   "metadata": {},
   "source": [
    "Because each pulse contains several abnormal indices, we will group all indices that are at most 0.6ms apart into one pulse "
   ]
  },
  {
   "cell_type": "code",
   "execution_count": null,
   "id": "96c35bb1",
   "metadata": {},
   "outputs": [],
   "source": [
    "def group_indices(indices, freq):\n",
    "    high_inds = indices[0][0]\n",
    "    low_inds = indices[1][0]\n",
    "    pulses_lst = [[]]  # initiate grouped abnormal indices\n",
    "    group_first_by_low(low_inds, pulses_lst, freq)\n",
    "    add_high_to_groups(high_inds, pulses_lst, freq)\n",
    "    return pulses_lst"
   ]
  },
  {
   "cell_type": "markdown",
   "id": "493c41fb",
   "metadata": {},
   "source": [
    "example of grouping abnormal low values"
   ]
  },
  {
   "cell_type": "code",
   "execution_count": null,
   "id": "3c6bd847",
   "metadata": {},
   "outputs": [],
   "source": [
    "def group_first_by_low(low_inds, pulses_lst, freq):  # creates a nested list for each suspected pulse\n",
    "    cnt = 0\n",
    "    for i in range(len(low_inds)):  # Loop to group values to pulses\n",
    "        pulses_lst[cnt].append(low_inds[i])\n",
    "        try:  # avoid error incase we reached end of list indices\n",
    "            if abs(low_inds[i] - low_inds[i + 1]) > freq:  # If next index is more than 0.6 ms apart - NOT the same pulse\n",
    "                cnt += 1\n",
    "                pulses_lst.append([])  # Add another row for the next pulse of this area\n",
    "        except IndexError:\n",
    "            cnt += 1\n",
    "            pass\n",
    "    return"
   ]
  },
  {
   "cell_type": "markdown",
   "id": "6b553fc9",
   "metadata": {},
   "source": [
    "Sort all indices within each pulse after high and low grouping"
   ]
  },
  {
   "cell_type": "code",
   "execution_count": null,
   "id": "90504caa",
   "metadata": {},
   "outputs": [],
   "source": [
    "def sort_pulses_for_region(pulses_lst):\n",
    "    for i in range(len(pulses_lst)):\n",
    "        pulses_lst[i] = np.sort(pulses_lst[i])"
   ]
  },
  {
   "cell_type": "markdown",
   "id": "7b443d92",
   "metadata": {},
   "source": [
    "for each pulse we make sure it contains at least one abnormal high value and at least one abnormal low value - to match the required pattern of TMS pulse"
   ]
  },
  {
   "cell_type": "code",
   "execution_count": null,
   "id": "00dc5f50",
   "metadata": {},
   "outputs": [],
   "source": [
    "def check_shape(row, pulses_lst, peak, j):\n",
    "    final_array = []\n",
    "    for i in range(len(pulses_lst)):\n",
    "        if len(pulses_lst[i]) == 0:\n",
    "            continue\n",
    "        values = row[pulses_lst[i]]\n",
    "        inds = [k for k in range(np.amin(pulses_lst[i] - 10), np.amax(pulses_lst[i] + 10))]\n",
    "        med = np.median(row[inds])\n",
    "        if np.amin(values) < med - peak / 3 and np.amax(values) > med + peak / 3:\n",
    "            final_array.append(pulses_lst[i].tolist())\n",
    "    return final_array"
   ]
  },
  {
   "cell_type": "markdown",
   "id": "1a660e1d",
   "metadata": {},
   "source": [
    "for each pulse, we find the average pulse start point and the average pulse endpoint and create a 2ms segment that contains the pulse"
   ]
  },
  {
   "cell_type": "code",
   "execution_count": null,
   "id": "ed8fb470",
   "metadata": {},
   "outputs": [],
   "source": [
    "def find_range(logs, rows, pulses):  # take average of all indices and create a 2 ms section\n",
    "    result = []\n",
    "    for i in range(pulses):\n",
    "        min_sum = 0\n",
    "        max_sum = 0\n",
    "        cnt = 0\n",
    "        for j in range(rows):\n",
    "            try:\n",
    "                max_sum += logs['Region ' + str(j + 1)]['Indices'][i][-1]\n",
    "                min_sum += logs['Region ' + str(j + 1)]['Indices'][i][0]\n",
    "            except IndexError:\n",
    "                cnt += 1\n",
    "                logs['Errors'].append(\"Error in row \" + str(j) + \" In pulse \" + str(i))\n",
    "        max_avg = max_sum // (rows - cnt)\n",
    "        min_avg = min_sum // (rows - cnt)\n",
    "        diff = max_avg - min_avg\n",
    "        extension = (20 - diff) // 2\n",
    "        result.append([min_avg - extension, max_avg + extension])\n",
    "    return result"
   ]
  },
  {
   "cell_type": "code",
   "execution_count": null,
   "id": "c86ac9fc",
   "metadata": {},
   "outputs": [],
   "source": [
    "returning to main flow, we create a new matrix, then iterate over the rows"
   ]
  },
  {
   "cell_type": "code",
   "execution_count": null,
   "id": "b48630ae",
   "metadata": {},
   "outputs": [],
   "source": [
    "interpolated_mat = np.zeros(shape = (len(mat), len(mat[0])))\n",
    "for channel in range(len(mat)): #iterating over the channels\n",
    "        key = \"Region \" + str(channel+1)\n",
    "        output_log[\"sum_of_peaks\"] += len(logs[key][\"Indices\"]) \n",
    "        xaxis , yaxis = interpolation_axises(mat[channel] , logs['General Info'][\"Indices to interpolate\"] )\n",
    "        interpolated_mat[channel] = interpolation(xaxis, yaxis, mat[channel])\n",
    "        if len(mat[channel]) != len(interpolated_mat[channel]):\n",
    "            print(\"error! interpolated row has different length  \" + str(len(interpolated_mat[channel])) + \" from original mat \" + str(len(mat[channel])))\n",
    "        else:\n",
    "            count = 0\n",
    "            avg = 0\n",
    "            for n in range(len(xaxis)):\n",
    "                i = xaxis[n]\n",
    "                avg += abs(interpolated_mat[channel][i] - mat[channel][i])\n",
    "                if mat[channel][i] != interpolated_mat[channel][i]:\n",
    "                    count += 1\n",
    "            print(\"found \" + str(count) + \" different values after interpolation\")\n",
    "            print(\"avg. difference between mats is \" + str(avg/len(xaxis)))\n",
    "        if channel == 0:\n",
    "            plt.plot( [x for x in range(len(interpolated_mat[channel]))] , interpolated_mat[channel] , label = \"interpolated\")\n",
    "            plt.scatter(xaxis , yaxis , label = \"original\" , color = 'red')\n",
    "            plt.legend()\n",
    "            plt.show()"
   ]
  },
  {
   "cell_type": "code",
   "execution_count": null,
   "id": "0d25f023",
   "metadata": {},
   "outputs": [],
   "source": [
    "we create "
   ]
  },
  {
   "cell_type": "code",
   "execution_count": null,
   "id": "e6f981af",
   "metadata": {},
   "outputs": [],
   "source": [
    "def interpolation_axises(row , indices):\n",
    "    xaxis = [ i for i in range(indices[0][0])]\n",
    "    for index in range(len(indices)):\n",
    "        try : \n",
    "            xaxis += [i for i in range(indices[index][1] , indices[index + 1][0])]\n",
    "        except IndexError:\n",
    "            xaxis += [i for i in range(indices[index][1] , len(row))]  \n",
    "    yaxis = [row[i] for i in xaxis] \n",
    "    return xaxis , yaxis"
   ]
  }
 ],
 "metadata": {
  "kernelspec": {
   "display_name": "Python 3 (ipykernel)",
   "language": "python",
   "name": "python3"
  },
  "language_info": {
   "codemirror_mode": {
    "name": "ipython",
    "version": 3
   },
   "file_extension": ".py",
   "mimetype": "text/x-python",
   "name": "python",
   "nbconvert_exporter": "python",
   "pygments_lexer": "ipython3",
   "version": "3.11.2"
  }
 },
 "nbformat": 4,
 "nbformat_minor": 5
}
