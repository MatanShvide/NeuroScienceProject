{
 "cells": [
  {
   "cell_type": "markdown",
   "id": "65dd2831",
   "metadata": {},
   "source": [
    "Extracting matrix from mne object, creating a log and calling function to find the pulses"
   ]
  },
  {
   "cell_type": "code",
   "execution_count": null,
   "id": "68579084",
   "metadata": {},
   "outputs": [],
   "source": [
    "def main( ): #main arguments: raw, logs, max = none, min = none\n",
    "    raw = mne.io.read_raw_brainvision('sub100_rt_TEP.vhdr')\n",
    "    mat = raw.get_data()\n",
    "    output_log = {}\n",
    "    num_of_artifacts = {}\n",
    "    logs = get_interpolation(raw)\n"
   ]
  },
  {
   "cell_type": "code",
   "execution_count": null,
   "id": "d13803a4",
   "metadata": {},
   "outputs": [],
   "source": [
    "def get_interpolation(raw):\n",
    "    logs = {}\n",
    "    logs['Errors'] = []\n",
    "    logs['General Info'] = {}\n",
    "    mat = raw.get_data()  # create 65 row matrix with ~7200000. Row = brain area, Column = 0.1 ms\n",
    "    diffs = np.diff(mat)\n",
    "    peaks = get_peak(mat)"
   ]
  },
  {
   "cell_type": "markdown",
   "id": "f01872a3",
   "metadata": {},
   "source": [
    "Determine abnormal values in differences matrix"
   ]
  },
  {
   "cell_type": "code",
   "execution_count": null,
   "id": "00dce649",
   "metadata": {},
   "outputs": [],
   "source": [
    "def get_peak(mat):\n",
    "    max_mat = np.amax(mat, axis=1)\n",
    "    min_mat = np.amin(mat, axis=1)\n",
    "    peaks = (max_mat + np.abs(min_mat)) / 7\n",
    "    return peaks\n"
   ]
  },
  {
   "cell_type": "markdown",
   "id": "67fcc73c",
   "metadata": {},
   "source": [
    "Iterating over matrix's rows, for each row, apply all of the followings: "
   ]
  },
  {
   "cell_type": "code",
   "execution_count": null,
   "id": "2ccce762",
   "metadata": {},
   "outputs": [],
   "source": [
    "for i in range(len(mat)):  # for each region\n",
    "        peak = peaks[i]  # get_peak(max_mat[i], min_mat[i])  #determine required amplitude\n",
    "        logs['Region ' + str(i + 1)] = {'Amplitude': peak}\n",
    "        indices = find_abnormalities(diffs[i], peak, i)  # find abnormal indices\n",
    "        pulses_lst = group_indices(indices, 6)  # group abnormal indices by adjacency\n",
    "        sort_pulses_for_region(pulses_lst)  # sort indices\n",
    "        final_array = check_shape(mat[i], pulses_lst, peak, i)  # check pattern of pulses contains min&max values\n",
    "        logs['Region ' + str(i + 1)]['Number of pulses'] = len(final_array)\n",
    "        logs['Region ' + str(i + 1)]['Indices'] = final_array\n",
    "    lst = find_range(logs, len(mat), logs['Region 1']['Number of pulses'])  # determine final locations of pulses\n",
    "    logs['General Info'][\"Indices to interpolate\"] = lst\n",
    "    return logs"
   ]
  },
  {
   "cell_type": "markdown",
   "id": "464f7efc",
   "metadata": {},
   "source": [
    "Using the value from get_peaks, find abnormal indices"
   ]
  },
  {
   "cell_type": "code",
   "execution_count": null,
   "id": "680f110a",
   "metadata": {},
   "outputs": [],
   "source": [
    "def find_abnormalities(diffs, peak, j):\n",
    "    low_inds = np.where(diffs > peak)\n",
    "    high_inds = np.where(diffs < (-peak))\n",
    "    return (high_inds, low_inds)\n"
   ]
  },
  {
   "cell_type": "markdown",
   "id": "1dc098a5",
   "metadata": {},
   "source": [
    "Because each pulse contains several abnormal indices, we will group all indices that are at most 0.6ms apart into one pulse "
   ]
  },
  {
   "cell_type": "code",
   "execution_count": null,
   "id": "4d1d1a82",
   "metadata": {},
   "outputs": [],
   "source": [
    "def group_indices(indices, freq):\n",
    "    high_inds = indices[0][0]\n",
    "    low_inds = indices[1][0]\n",
    "    pulses_lst = [[]]  # initiate grouped abnormal indices\n",
    "    group_first_by_low(low_inds, pulses_lst, freq)\n",
    "    add_high_to_groups(high_inds, pulses_lst, freq)\n",
    "    return pulses_lst"
   ]
  },
  {
   "cell_type": "markdown",
   "id": "f7b1d5db",
   "metadata": {},
   "source": [
    "Example of grouping abnormal low values"
   ]
  },
  {
   "cell_type": "code",
   "execution_count": null,
   "id": "86ff11f4",
   "metadata": {},
   "outputs": [],
   "source": [
    "def group_first_by_low(low_inds, pulses_lst, freq):  # creates a nested list for each suspected pulse\n",
    "    cnt = 0\n",
    "    for i in range(len(low_inds)):  # Loop to group values to pulses\n",
    "        pulses_lst[cnt].append(low_inds[i])\n",
    "        try:  # avoid error incase we reached end of list indices\n",
    "            if abs(low_inds[i] - low_inds[i + 1]) > freq:  # If next index is more than 0.6 ms apart - NOT the same pulse\n",
    "                cnt += 1\n",
    "                pulses_lst.append([])  # Add another row for the next pulse of this area\n",
    "        except IndexError:\n",
    "            cnt += 1\n",
    "            pass\n",
    "    return"
   ]
  },
  {
   "cell_type": "markdown",
   "id": "1a4ee7fb",
   "metadata": {},
   "source": [
    "Sort all indices within each pulse after high and low grouping"
   ]
  },
  {
   "cell_type": "code",
   "execution_count": null,
   "id": "60a8e74a",
   "metadata": {},
   "outputs": [],
   "source": [
    "def sort_pulses_for_region(pulses_lst):\n",
    "    for i in range(len(pulses_lst)):\n",
    "        pulses_lst[i] = np.sort(pulses_lst[i])"
   ]
  },
  {
   "cell_type": "markdown",
   "id": "6ceeafe9",
   "metadata": {},
   "source": [
    "For each pulse we make sure it contains at least one abnormal high value and at least one abnormal low value - to match the required pattern of TMS pulse"
   ]
  },
  {
   "cell_type": "code",
   "execution_count": null,
   "id": "1e750d78",
   "metadata": {},
   "outputs": [],
   "source": [
    "def check_shape(row, pulses_lst, peak, j):\n",
    "    final_array = []\n",
    "    for i in range(len(pulses_lst)):\n",
    "        if len(pulses_lst[i]) == 0:\n",
    "            continue\n",
    "        values = row[pulses_lst[i]]\n",
    "        inds = [k for k in range(np.amin(pulses_lst[i] - 10), np.amax(pulses_lst[i] + 10))]\n",
    "        med = np.median(row[inds])\n",
    "        if np.amin(values) < med - peak / 3 and np.amax(values) > med + peak / 3:\n",
    "            final_array.append(pulses_lst[i].tolist())\n",
    "    return final_array"
   ]
  },
  {
   "cell_type": "markdown",
   "id": "a41b01f3",
   "metadata": {},
   "source": [
    "For each pulse, we find the average pulse start point and the average pulse endpoint and create a 2ms segment that contains the pulse"
   ]
  },
  {
   "cell_type": "code",
   "execution_count": null,
   "id": "6e791c7e",
   "metadata": {},
   "outputs": [],
   "source": [
    "def find_range(logs, rows, pulses):  # take average of all indices and create a 2 ms section\n",
    "    result = []\n",
    "    for i in range(pulses):\n",
    "        min_sum = 0\n",
    "        max_sum = 0\n",
    "        cnt = 0\n",
    "        for j in range(rows):\n",
    "            try:\n",
    "                max_sum += logs['Region ' + str(j + 1)]['Indices'][i][-1]\n",
    "                min_sum += logs['Region ' + str(j + 1)]['Indices'][i][0]\n",
    "            except IndexError:\n",
    "                cnt += 1\n",
    "                logs['Errors'].append(\"Error in row \" + str(j) + \" In pulse \" + str(i))\n",
    "        max_avg = max_sum // (rows - cnt)\n",
    "        min_avg = min_sum // (rows - cnt)\n",
    "        diff = max_avg - min_avg\n",
    "        extension = (20 - diff) // 2\n",
    "        result.append([min_avg - extension, max_avg + extension])\n",
    "    return result"
   ]
  },
  {
   "cell_type": "markdown",
   "id": "2d3e9a8d",
   "metadata": {},
   "source": [
    "Returning to main flow, we create a new matrix, then iterate over the rows"
   ]
  },
  {
   "cell_type": "code",
   "execution_count": null,
   "id": "bb195729",
   "metadata": {},
   "outputs": [],
   "source": [
    "interpolated_mat = np.copy(mat)\n",
    "    for channel in range(len(mat)): #iterating over the channels\n",
    "        key = \"Region \" + str(channel+1)\n",
    "        compare_to_events(raw , logs['General Info'][\"Indices to interpolate\"])\n",
    "        xaxis , yaxis , inter_xaxis = interpolation_axises(mat[channel] , logs['General Info'][\"Indices to interpolate\"] )\n",
    "        inter_yaxis = interpolation(xaxis, yaxis, inter_xaxis ,mat[channel])\n",
    "        for x in range(len(inter_xaxis)):\n",
    "            interpolated_mat[channel][inter_xaxis[x]] = inter_yaxis[x]"
   ]
  },
  {
   "cell_type": "markdown",
   "id": "aa6cbd6d",
   "metadata": {},
   "source": [
    "We create an x-axis without the contaminated indexes and insert the original y-axis values of the uncontaminated indices"
   ]
  },
  {
   "cell_type": "code",
   "execution_count": null,
   "id": "852cdf01",
   "metadata": {},
   "outputs": [],
   "source": [
    "def interpolation_axises(row , indices):\n",
    "    xaxis = [ i for i in range(indices[0][0])]\n",
    "    new_xaxis = []\n",
    "    for index in range(len(indices)):\n",
    "        try : \n",
    "            new_xaxis += [i for i in range(indices[index][0] , indices[index][1] + 1)]\n",
    "            xaxis += [i for i in range(indices[index][1] , indices[index + 1][0])]\n",
    "        except IndexError:\n",
    "            xaxis += [i for i in range(indices[index][1] , len(row))]  \n",
    "    yaxis = [row[i] for i in xaxis] \n",
    "    print(\"num of xaxises to interpolate , \" + str(len(new_xaxis)))\n",
    "    return xaxis , yaxis , new_xaxis"
   ]
  },
  {
   "cell_type": "markdown",
   "id": "d5acf4cf",
   "metadata": {},
   "source": [
    "Using the uncontaminated x,y values, we create a cubic interpolation function based on our data, create y values for our contaminated indices and insert the values in the new matrix "
   ]
  },
  {
   "cell_type": "code",
   "execution_count": null,
   "id": "943ba2d6",
   "metadata": {},
   "outputs": [],
   "source": [
    "def interpolation(xaxis , yaxis, inter_xaxis, row):\n",
    "    # returns a new matrix with the values created by the interpolation\n",
    "    inter_func = interpolate.interp1d(xaxis, yaxis, kind = 'cubic')\n",
    "    interpolated_row = inter_func(inter_xaxis)\n",
    "    #check_interpolation(inter_func, xaxis, yaxis, row) \n",
    "    return interpolated_row"
   ]
  },
  {
   "cell_type": "markdown",
   "id": "5d285803",
   "metadata": {},
   "source": [
    "Print the log that contains the desired information"
   ]
  },
  {
   "cell_type": "markdown",
   "id": "2b159d9d",
   "metadata": {},
   "source": []
  },
  {
   "cell_type": "markdown",
   "id": "bafcd527",
   "metadata": {},
   "source": [
    "Create a new mne object with the interpolated matrix values and return it"
   ]
  },
  {
   "cell_type": "code",
   "execution_count": null,
   "id": "69f1d804",
   "metadata": {},
   "outputs": [],
   "source": [
    "info = raw.info  # Preserve the original info structure\n",
    "raw_new = mne.io.RawArray(interpolated_mat, info)\n",
    "return raw_new"
   ]
  }
 ],
 "metadata": {
  "kernelspec": {
   "display_name": "Python 3 (ipykernel)",
   "language": "python",
   "name": "python3"
  },
  "language_info": {
   "codemirror_mode": {
    "name": "ipython",
    "version": 3
   },
   "file_extension": ".py",
   "mimetype": "text/x-python",
   "name": "python",
   "nbconvert_exporter": "python",
   "pygments_lexer": "ipython3",
   "version": "3.11.2"
  }
 },
 "nbformat": 4,
 "nbformat_minor": 5
}
